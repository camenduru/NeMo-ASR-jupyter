{
    "cells": [
        {
            "cell_type": "markdown",
            "metadata": {
                "id": "view-in-github"
            },
            "source": [
                "[![Open In Colab](https://colab.research.google.com/assets/colab-badge.svg)](https://colab.research.google.com/github/camenduru/NeMo-ASR-jupyter/blob/main/transcribe_speech_jupyter.ipynb)"
            ]
        },
        {
            "cell_type": "code",
            "execution_count": null,
            "metadata": {},
            "outputs": [],
            "source": [
                "%cd /content\n",
                "!git clone --recursive https://github.com/NVIDIA/NeMo\n",
                "%cd /content/NeMo\n",
                "!pip install -q -e .\n",
                "!pip install -q pydub lhotse pytorch_lightning omegaconf hydra-core youtokentome pyannote.core pyannote.metrics webdataset datasets jiwer\n",
                "!apt install aria2\n",
                "\n",
                "from pydub import AudioSegment\n",
                "def convert_to_mono_16k(input_file, output_file):\n",
                "    sound = AudioSegment.from_wav(input_file)\n",
                "    sound = sound.set_channels(1)\n",
                "    sound = sound.set_frame_rate(16000)\n",
                "    sound.export(output_file, format=\"wav\")"
            ]
        },
        {
            "cell_type": "code",
            "execution_count": null,
            "metadata": {},
            "outputs": [],
            "source": [
                "!aria2c --console-log-level=error -c -x 16 -s 16 -k 1M https://huggingface.co/audo/all_test/resolve/main/ash.wav -d /content/test -o ash.wav\n",
                "convert_to_mono_16k(\"/content/test/ash.wav\", \"/content/test/ash.wav\")\n",
                "!python /content/NeMo/examples/asr/transcribe_speech.py pretrained_name=\"stt_en_fastconformer_hybrid_large_streaming_80ms\" audio_dir=\"/content/test\""
            ]
        }
    ],
    "metadata": {
        "language_info": {
            "name": "python"
        }
    },
    "nbformat": 4,
    "nbformat_minor": 2
}
